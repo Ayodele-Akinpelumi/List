{
 "cells": [
  {
   "cell_type": "markdown",
   "id": "87634bc8",
   "metadata": {},
   "source": [
    "## Write a Python program to validate a user's input of a numerical value. If the input is not a number, provide feedback; otherwise, determine if it's even or odd."
   ]
  },
  {
   "cell_type": "code",
   "execution_count": 1,
   "id": "f2b20ca8",
   "metadata": {},
   "outputs": [
    {
     "name": "stdout",
     "output_type": "stream",
     "text": [
      "enter any value 67\n",
      "\n",
      "it's an odd number\n"
     ]
    }
   ],
   "source": [
    "create_num = input('enter any value ')\n",
    "new_num = int(create_num)\n",
    "if new_num % 2 == 0:\n",
    "    print(\"it's an even number\")\n",
    "elif new_num % 2 != 0:\n",
    "    print(\"\\nit's an odd number\")\n",
    "else:\n",
    "    print(\"\\nit's a non number\")"
   ]
  },
  {
   "cell_type": "markdown",
   "id": "3782199a",
   "metadata": {},
   "source": [
    "## b. Write a Python program that accepts three sides of a triangle and checks if it's an equlateral, isosceless or scalene triangle. Note: equilateral triangle - has 3 equal sides, isosceles triangle- has at least 2 equal sides. scalene triangle - has 3 unequal sides."
   ]
  },
  {
   "cell_type": "code",
   "execution_count": 2,
   "id": "c1c369ca",
   "metadata": {},
   "outputs": [
    {
     "name": "stdout",
     "output_type": "stream",
     "text": [
      "enter a number: 85\n",
      "enter a number: 55\n",
      "enter a number: 40\n",
      "it's a scalene triangle\n"
     ]
    }
   ],
   "source": [
    "a = int(input('enter a number: '))\n",
    "b = int(input('enter a number: '))\n",
    "c = int(input('enter a number: '))\n",
    "if a == b and b == c:\n",
    "    print(\"it's an equlateral triangle\")\n",
    "elif a == c and c != b:\n",
    "    print(\"it's an isosceles triangle\")\n",
    "elif a != b and b != c and c != a:\n",
    "    print(\"it's a scalene triangle\")"
   ]
  },
  {
   "cell_type": "markdown",
   "id": "582722d9",
   "metadata": {},
   "source": [
    "## a. Write a for loop that finds and prints all prime numbers from 1 to 50. convert the for loop-based prime number computation into a list comprehension."
   ]
  },
  {
   "cell_type": "code",
   "execution_count": 3,
   "id": "4ee6d833",
   "metadata": {},
   "outputs": [
    {
     "name": "stdout",
     "output_type": "stream",
     "text": [
      "1 is a prime number\n",
      "2 is a prime number\n",
      "3 is a prime number\n",
      "5 is a prime number\n",
      "7 is a prime number\n",
      "11 is a prime number\n",
      "13 is a prime number\n",
      "17 is a prime number\n",
      "19 is a prime number\n",
      "23 is a prime number\n",
      "29 is a prime number\n",
      "31 is a prime number\n",
      "37 is a prime number\n",
      "41 is a prime number\n",
      "43 is a prime number\n",
      "47 is a prime number\n"
     ]
    }
   ],
   "source": [
    "for i in range(1, 51):\n",
    "    for n in range(2, int(i**0.5) + 1):\n",
    "        if i % n == 0:\n",
    "            break\n",
    "    else:\n",
    "        print(f\"{i} is a prime number\")"
   ]
  },
  {
   "cell_type": "code",
   "execution_count": 4,
   "id": "8cb31764",
   "metadata": {},
   "outputs": [
    {
     "name": "stdout",
     "output_type": "stream",
     "text": [
      "1, 2, 3, 5, 7, 11, 13, 17, 19, 23, 29, 31, 37, 41, 43, 47, "
     ]
    }
   ],
   "source": [
    "for i in range(1, 51):\n",
    "    for n in range(2, int(i**0.5) + 1):\n",
    "        if i % n == 0:\n",
    "            break\n",
    "    else:\n",
    "        print(f\"{i}\",end = ', ')"
   ]
  },
  {
   "cell_type": "code",
   "execution_count": 5,
   "id": "18f44311",
   "metadata": {},
   "outputs": [
    {
     "name": "stdout",
     "output_type": "stream",
     "text": [
      "[2, 3, 5, 7, 11, 13, 17, 19, 23, 29, 31, 37, 41, 43, 47]\n"
     ]
    }
   ],
   "source": [
    "primes = [i for i in range(2, 51) \n",
    "          if all(i % n != 0 for n in range(2, int(i**0.5) + 1))]\n",
    "print(primes)"
   ]
  },
  {
   "cell_type": "markdown",
   "id": "fbed14cd",
   "metadata": {},
   "source": [
    "## b. Given the list of dictionaries below where each dictionary represents a property, use a loop to add price per area to each dictionary: price_per_m2.\n",
    "\n",
    "properties = [{'price_in_usd': 68663.03, 'area_in_m2': 208, 'room_num': 3}, {'price_in_usd': 100412.94, 'area_in_m2': 256, 'room_num': 4}, {'price_in_usd': 41967.85, 'area_in_m2': 87, 'room_num': 4}, {'price_in_usd': 80186.97, 'area_in_m2': 158, 'room_num': 2}, {'price_in_usd': 48405.36, 'area_in_m2': 249, 'room_num': 3}]"
   ]
  },
  {
   "cell_type": "code",
   "execution_count": 6,
   "id": "c9d4442e",
   "metadata": {},
   "outputs": [
    {
     "name": "stdout",
     "output_type": "stream",
     "text": [
      "[{'price_in_usd': 68663.03, 'area_in_m2': 208, 'room_num': 3, 'price_per_m2': 330.11072115384616}, {'price_in_usd': 100412.94, 'area_in_m2': 256, 'room_num': 4, 'price_per_m2': 392.238046875}, {'price_in_usd': 41967.85, 'area_in_m2': 87, 'room_num': 4, 'price_per_m2': 482.38908045977007}, {'price_in_usd': 80186.97, 'area_in_m2': 158, 'room_num': 2, 'price_per_m2': 507.5124683544304}, {'price_in_usd': 48405.36, 'area_in_m2': 249, 'room_num': 3, 'price_per_m2': 194.3990361445783}]\n"
     ]
    }
   ],
   "source": [
    "properties = [{'price_in_usd': 68663.03, 'area_in_m2': 208, 'room_num': 3}, \n",
    "              {'price_in_usd': 100412.94, 'area_in_m2': 256, 'room_num': 4}, \n",
    "              {'price_in_usd': 41967.85, 'area_in_m2': 87, 'room_num': 4}, \n",
    "              {'price_in_usd': 80186.97, 'area_in_m2': 158, 'room_num': 2}, \n",
    "              {'price_in_usd': 48405.36, 'area_in_m2': 249, 'room_num': 3}]\n",
    "for property_new in properties:\n",
    "    property_new['price_per_m2'] = property_new[\"price_in_usd\"]/property_new['area_in_m2']\n",
    "print( properties)"
   ]
  },
  {
   "cell_type": "markdown",
   "id": "f10fd2ea",
   "metadata": {},
   "source": [
    "## Write a function called square_odd that has one parameter. Your function must calculate the square of each odd number in a list.Return a Python list containing the squared values. Challenge yourself: Solve this problem with a list comprehension!"
   ]
  },
  {
   "cell_type": "code",
   "execution_count": 7,
   "id": "159ae7b8",
   "metadata": {},
   "outputs": [
    {
     "name": "stdout",
     "output_type": "stream",
     "text": [
      "[1, 9, 25, 49, 81, 121, 53361, 169, 19881, 225]\n"
     ]
    }
   ],
   "source": [
    "def square_odd(numbers):\n",
    "    squared_odd_numbers = []\n",
    "    for number in numbers:\n",
    "        if number % 2 != 0:\n",
    "            squared_odd_numbers.append(number ** 2)\n",
    "    return squared_odd_numbers\n",
    "numbers = [1,2,3,4,5,6,7,8,9,10,11,231,12,13,141,15,14 ]\n",
    "\n",
    "squared_odd_numbers = square_odd(numbers)\n",
    "print(squared_odd_numbers)"
   ]
  },
  {
   "cell_type": "code",
   "execution_count": 8,
   "id": "53eb5272",
   "metadata": {},
   "outputs": [
    {
     "name": "stdout",
     "output_type": "stream",
     "text": [
      "[1, 9, 25, 49, 81, 121, 53361, 169, 19881, 225]\n"
     ]
    }
   ],
   "source": [
    "squared = [i**2 for i in numbers if i % 2 != 0]\n",
    "print(squared)"
   ]
  },
  {
   "cell_type": "markdown",
   "id": "a8daec65",
   "metadata": {},
   "source": [
    "## Create a Python function called classify_age that takes an age as an argument and returns the following classifications:\n",
    "\n",
    "### If the age is less than 18, return \"Minor.\" If the age is between 18 and 65 (inclusive), return \"Adult.\" If the age is greater than 65, return \"Senior Citizen.\""
   ]
  },
  {
   "cell_type": "code",
   "execution_count": 10,
   "id": "fd01524b",
   "metadata": {},
   "outputs": [
    {
     "name": "stdout",
     "output_type": "stream",
     "text": [
      "wow! you're Senior citizen\n"
     ]
    }
   ],
   "source": [
    "def  classify_age(age):\n",
    "    if age < 18:\n",
    "        classified_age = \"you're Minor\"\n",
    "    elif age >=18 and age == 65:\n",
    "        classified_age = \"you're Adult\"\n",
    "    elif age > 65:\n",
    "        classified_age = \"you're Senior citizen\"\n",
    "    return classified_age\n",
    "classified_age = classify_age (67)\n",
    "print (f\"wow! {classified_age}\")"
   ]
  },
  {
   "cell_type": "code",
   "execution_count": 22,
   "id": "a416e64f",
   "metadata": {},
   "outputs": [
    {
     "name": "stdout",
     "output_type": "stream",
     "text": [
      "enter age: 70\n",
      "\n",
      "Senior Citizen\n"
     ]
    }
   ],
   "source": [
    "\n",
    "def  classy_age(age):\n",
    "    if age < 18:\n",
    "        return \"Minor\"\n",
    "    elif 18 <= age <= 65:\n",
    "        return \"Adult\"\n",
    "    else:\n",
    "        return \"Senior Citizen\"\n",
    "age = int(input('enter age: '))\n",
    "citizen_age = classy_age(age)\n",
    "print(f\"\\n{citizen_age}\")"
   ]
  },
  {
   "cell_type": "code",
   "execution_count": null,
   "id": "726dc765",
   "metadata": {},
   "outputs": [],
   "source": []
  }
 ],
 "metadata": {
  "kernelspec": {
   "display_name": "Python 3 (ipykernel)",
   "language": "python",
   "name": "python3"
  },
  "language_info": {
   "codemirror_mode": {
    "name": "ipython",
    "version": 3
   },
   "file_extension": ".py",
   "mimetype": "text/x-python",
   "name": "python",
   "nbconvert_exporter": "python",
   "pygments_lexer": "ipython3",
   "version": "3.9.13"
  }
 },
 "nbformat": 4,
 "nbformat_minor": 5
}
